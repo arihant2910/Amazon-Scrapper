{
 "cells": [
  {
   "cell_type": "code",
   "execution_count": 1,
   "id": "7992081d-599a-406a-9137-33cfdcf05690",
   "metadata": {},
   "outputs": [],
   "source": [
    "import pandas as pd\n",
    "import selenium.webdriver as wd\n",
    "from selenium.webdriver.common.by import By\n",
    "import time"
   ]
  },
  {
   "cell_type": "code",
   "execution_count": 69,
   "id": "0f98cfa9-8ccb-4ff2-a068-6aad92f161fd",
   "metadata": {},
   "outputs": [],
   "source": [
    "op = wd.EdgeOptions()\n",
    "op.add_extension('ublock.crx')"
   ]
  },
  {
   "cell_type": "code",
   "execution_count": 333,
   "id": "235ebf04-7e89-457a-b2d3-e6fbf83ed56b",
   "metadata": {},
   "outputs": [],
   "source": [
    "try:\n",
    "    dr.quit()\n",
    "except:\n",
    "    pass"
   ]
  },
  {
   "cell_type": "code",
   "execution_count": 3,
   "id": "e0c4c6f9-171b-4dc8-af33-c7f67fbc0b60",
   "metadata": {},
   "outputs": [],
   "source": [
    "dr = wd.Edge(options=op)"
   ]
  },
  {
   "cell_type": "code",
   "execution_count": null,
   "id": "ad70c749-ba9c-4fd1-bb82-4da8a2ffe6b3",
   "metadata": {
    "scrolled": true
   },
   "outputs": [],
   "source": [
    "urls = []\n",
    "names = []\n",
    "prices = []\n",
    "rats = []\n",
    "numrevs = []\n",
    "asins = []\n",
    "\n",
    "url = 'https://www.amazon.in/s?k=bags&page={}&crid=2M096C61O4MLT&qid=1690021477'\n",
    "\n",
    "for page in range(16, 31):\n",
    "    \n",
    "    dr.get(url.format(page))\n",
    "\n",
    "    time.sleep(5)\n",
    "    \n",
    "    cls = '.sg-col-20-of-24 s-result-item s-asin sg-col-0-of-12 sg-col-16-of-20 sg-col s-widget-spacing-small sg-col-12-of-16'.replace(' ', '.')\n",
    "\n",
    "    eles = [el for el in dr.find_elements(By.CSS_SELECTOR, cls) if el.is_displayed()]\n",
    "    \n",
    "    for el in eles:\n",
    "        if 'out of' in el.find_element(By.CSS_SELECTOR, '.a-section.a-spacing-none.a-spacing-top-micro').get_attribute('innerText'):\n",
    "            uniq = 'a.a-link-normal.s-underline-text.s-underline-link-text.s-link-style.a-text-normal'\n",
    "            txt = el.find_element(By.CSS_SELECTOR, '.a-section.a-spacing-none.a-spacing-top-micro').get_attribute('innerText')\n",
    "            urls.append(el.find_element(By.CSS_SELECTOR, uniq).get_attribute('href'))\n",
    "            names.append(el.find_element(By.CSS_SELECTOR, uniq).text)\n",
    "            rats.append(txt.split('\\n')[0])\n",
    "            numrevs.append(eval(txt.split('\\n')[1].replace(',' ,'')))\n",
    "            prices.append(eval(el.find_element(By.CLASS_NAME, 'a-price-whole').text.replace(',' ,'')))\n",
    "            asins.append(el.get_attribute('data-asin'))\n",
    "\n",
    "    print(page, end='\\r')"
   ]
  },
  {
   "cell_type": "code",
   "execution_count": 383,
   "id": "259c9bdd-bdf6-43d5-a17b-cbd45ec2bd2d",
   "metadata": {},
   "outputs": [],
   "source": [
    "df = pd.DataFrame(dict(name=names, url=urls, rating = rats, number_of_ratings = numrevs, price=prices, asin=asins))"
   ]
  },
  {
   "cell_type": "code",
   "execution_count": 384,
   "id": "09151b09-34c1-42a2-8849-f634135a5c7a",
   "metadata": {},
   "outputs": [],
   "source": [
    "df.to_csv('URLS.csv', index=None)"
   ]
  },
  {
   "cell_type": "markdown",
   "id": "9903c092-b02f-4277-975a-b36cd033ac40",
   "metadata": {},
   "source": [
    "# Manufacturer and Description"
   ]
  },
  {
   "cell_type": "code",
   "execution_count": 70,
   "id": "549e3779-cb85-47d7-8fae-1934f3bad83a",
   "metadata": {},
   "outputs": [],
   "source": [
    "dr.quit()"
   ]
  },
  {
   "cell_type": "code",
   "execution_count": 71,
   "id": "7931d72c-d2ca-408e-b03d-2711f186fb68",
   "metadata": {},
   "outputs": [],
   "source": [
    "dr = wd.Edge(options=op)"
   ]
  },
  {
   "cell_type": "code",
   "execution_count": 72,
   "id": "9b4dcb5e-59da-49ce-874e-8d96d93caf75",
   "metadata": {},
   "outputs": [
    {
     "name": "stdout",
     "output_type": "stream",
     "text": [
      "100.000000%\r"
     ]
    }
   ],
   "source": [
    "mans = []\n",
    "dets = []\n",
    "prod = []\n",
    "\n",
    "for i, url in enumerate(df['url']):\n",
    "\n",
    "    dr.get(url)\n",
    "\n",
    "    time.sleep(2)\n",
    "    \n",
    "    dr.execute_script(\"window.scrollTo(0, document.body.scrollHeight);\")\n",
    "    \n",
    "    if dr.find_elements(By.ID, 'prodDetails'):\n",
    "        txt = dr.find_element(By.ID, 'prodDetails').text\n",
    "        man = txt[txt.find('Manufacturer')+13:].split('\\n')[0]\n",
    "    \n",
    "    elif dr.find_elements(By.ID, 'detailBullets_feature_div'):\n",
    "        txt = dr.find_element(By.ID, 'detailBullets_feature_div').text\n",
    "        man = txt[txt.find('Manufacturer')+14:].split('\\n')[0].strip()\n",
    "    \n",
    "    mans.append(man)\n",
    "    dets.append(txt)\n",
    "    prod.append(dr.find_elements(By.CSS_SELECTOR, '#feature-bullets, #featurebullets_feature_div')[0].text)\n",
    "\n",
    "    del man\n",
    "    del txt\n",
    "\n",
    "    print('{:%}'.format((i+1)/300), end='\\r')"
   ]
  },
  {
   "cell_type": "code",
   "execution_count": 73,
   "id": "c2a06ff6-d844-4448-9274-7b919b7704d6",
   "metadata": {},
   "outputs": [],
   "source": [
    "df['Manufacturer'] = mans\n",
    "df['Product Details'] = prod\n",
    "df['Details'] = dets"
   ]
  },
  {
   "cell_type": "code",
   "execution_count": 74,
   "id": "c769d674-fbc0-4d2d-aa3d-439e88b00635",
   "metadata": {},
   "outputs": [],
   "source": [
    "df.to_csv('final_output.csv', index=None)"
   ]
  },
  {
   "cell_type": "code",
   "execution_count": 78,
   "id": "ea74faae-0506-4801-9a47-2e92c8d4781a",
   "metadata": {},
   "outputs": [],
   "source": [
    "dr.quit()"
   ]
  }
 ],
 "metadata": {
  "kernelspec": {
   "display_name": "Python 3 (ipykernel)",
   "language": "python",
   "name": "python3"
  },
  "language_info": {
   "codemirror_mode": {
    "name": "ipython",
    "version": 3
   },
   "file_extension": ".py",
   "mimetype": "text/x-python",
   "name": "python",
   "nbconvert_exporter": "python",
   "pygments_lexer": "ipython3",
   "version": "3.9.12"
  }
 },
 "nbformat": 4,
 "nbformat_minor": 5
}
